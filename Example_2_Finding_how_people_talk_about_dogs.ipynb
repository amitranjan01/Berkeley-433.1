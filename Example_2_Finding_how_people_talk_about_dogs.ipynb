{
  "nbformat": 4,
  "nbformat_minor": 0,
  "metadata": {
    "colab": {
      "name": "Example 2 Finding how people talk about dogs.ipynb",
      "version": "0.3.2",
      "provenance": [],
      "include_colab_link": true
    },
    "kernelspec": {
      "display_name": "Python 3",
      "language": "python",
      "name": "python3"
    }
  },
  "cells": [
    {
      "cell_type": "markdown",
      "metadata": {
        "id": "view-in-github",
        "colab_type": "text"
      },
      "source": [
        "<a href=\"https://colab.research.google.com/github/amitranjan02/Berkeley-433.1/blob/master/Example_2_Finding_how_people_talk_about_dogs.ipynb\" target=\"_parent\"><img src=\"https://colab.research.google.com/assets/colab-badge.svg\" alt=\"Open In Colab\"/></a>"
      ]
    },
    {
      "cell_type": "code",
      "metadata": {
        "id": "e7tgQ0DkEwfI",
        "colab_type": "code",
        "outputId": "cff71116-a097-4fdb-d1e7-55f98f8820e4",
        "colab": {
          "base_uri": "https://localhost:8080/",
          "height": 416
        }
      },
      "source": [
        "import requests\n",
        "# Do a google search.\n",
        "# Optional: use the google search API: https://www.geeksforgeeks.org/performing-google-search-using-python-code/\n",
        "# Optional: use the google custom search API: https://www.googleapis.com/customsearch/v1?\n",
        "url = 'https://www.google.com/search?q=dog'\n",
        "r = requests.get(url, allow_redirects=True)\n",
        "import re\n",
        "dog_urls = re.findall(\"https://[^<]+\", str(r.content))\n",
        "filtered_dog_urls = [url for url in dog_urls if 'google' not in url and 'gstatic' not in url]\n",
        "\n",
        "# Find setences that have \"dog\" in it.\n",
        "all_dog_sents = []\n",
        "for url in filtered_dog_urls:\n",
        "    try:\n",
        "        r = requests.get(url, allow_redirects=True)\n",
        "        print(\"Request status\", r)\n",
        "    except:\n",
        "        continue\n",
        "    # Optional: Try other setence extraction methods.\n",
        "    dog_sents = re.findall(\" [a-zA-Z ]+\\.\", str(r.content))\n",
        "    dog_sents = [sent for sent in dog_sents if 'dog' in sent]\n",
        "    all_dog_sents.extend(dog_sents)\n",
        "from random import shuffle\n",
        "shuffle(all_dog_sents)\n",
        "print(all_dog_sents[:10])"
      ],
      "execution_count": 0,
      "outputs": [
        {
          "output_type": "stream",
          "text": [
            "Request status <Response [400]>\n",
            "Request status <Response [400]>\n",
            "Request status <Response [400]>\n",
            "Request status <Response [200]>\n",
            "Request status <Response [400]>\n",
            "Request status <Response [404]>\n",
            "Request status <Response [200]>\n",
            "Request status <Response [404]>\n",
            "Request status <Response [404]>\n",
            "Request status <Response [410]>\n",
            "Request status <Response [404]>\n",
            "Request status <Response [400]>\n",
            "Request status <Response [400]>\n",
            "Request status <Response [400]>\n",
            "Request status <Response [400]>\n",
            "Request status <Response [400]>\n",
            "Request status <Response [400]>\n",
            "Request status <Response [400]>\n",
            "Request status <Response [400]>\n",
            "Request status <Response [400]>\n",
            "Request status <Response [404]>\n",
            "Request status <Response [404]>\n",
            "Request status <Response [404]>\n"
          ],
          "name": "stdout"
        }
      ]
    }
  ]
}