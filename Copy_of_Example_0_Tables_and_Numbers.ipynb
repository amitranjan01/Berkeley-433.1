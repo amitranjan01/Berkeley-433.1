{
  "nbformat": 4,
  "nbformat_minor": 0,
  "metadata": {
    "colab": {
      "name": "Copy of Example 0 Tables and Numbers.ipynb",
      "version": "0.3.2",
      "provenance": [],
      "collapsed_sections": [],
      "include_colab_link": true
    },
    "kernelspec": {
      "display_name": "Python 3",
      "language": "python",
      "name": "python3"
    }
  },
  "cells": [
    {
      "cell_type": "markdown",
      "metadata": {
        "id": "view-in-github",
        "colab_type": "text"
      },
      "source": [
        "<a href=\"https://colab.research.google.com/github/amitranjan02/Berkeley-433.1/blob/master/Copy_of_Example_0_Tables_and_Numbers.ipynb\" target=\"_parent\"><img src=\"https://colab.research.google.com/assets/colab-badge.svg\" alt=\"Open In Colab\"/></a>"
      ]
    },
    {
      "cell_type": "code",
      "metadata": {
        "id": "LkGkLMBVdvkr",
        "colab_type": "code",
        "colab": {}
      },
      "source": [
        "# Commonly seen tables\n",
        "list_of_1d_examples = [[1, 1], [0, 0], [1, 0]] # e.g. examples of vectorized features.\n",
        "list_of_2d_examples = [[[0, 2], [1, 0]], [[1, 1], [1, 1]]] # e.g. examples of grey-scale images\n",
        "# ... this applies to higher dimensions."
      ],
      "execution_count": 0,
      "outputs": []
    },
    {
      "cell_type": "code",
      "metadata": {
        "id": "YdPwGJKwGzBs",
        "colab_type": "code",
        "colab": {}
      },
      "source": [
        ""
      ],
      "execution_count": 0,
      "outputs": []
    },
    {
      "cell_type": "code",
      "metadata": {
        "id": "JoJpC-7gdvkx",
        "colab_type": "code",
        "outputId": "4767e715-464d-4fc8-92f3-650392c15cb8",
        "colab": {
          "base_uri": "https://localhost:8080/",
          "height": 105
        }
      },
      "source": [
        "# Convert to numpy arrays\n",
        "import numpy as np\n",
        "array_of_1d_examples = np.array(list_of_1d_examples)\n",
        "array_of_2d_examples = np.array(list_of_2d_examples)\n",
        "print(array_of_2d_examples)"
      ],
      "execution_count": 0,
      "outputs": [
        {
          "output_type": "stream",
          "text": [
            "[[[0 2]\n",
            "  [1 0]]\n",
            "\n",
            " [[1 1]\n",
            "  [1 1]]]\n"
          ],
          "name": "stdout"
        }
      ]
    },
    {
      "cell_type": "code",
      "metadata": {
        "id": "p9flA59ldvk7",
        "colab_type": "code",
        "outputId": "c0a1cefc-46ad-4f9b-d312-895843cc3187",
        "colab": {
          "base_uri": "https://localhost:8080/",
          "height": 281
        }
      },
      "source": [
        "### Some useful numpy array operations...\n",
        "# different slicings\n",
        "print ('original:\\n', array_of_2d_examples[:])\n",
        "print ('first example:\\n', array_of_2d_examples[0])\n",
        "print ('a row(*) of the first example:\\n', array_of_2d_examples[0, 0, :])\n",
        "print ('a row(*) of the first example:\\n', array_of_2d_examples[0, -1, :])\n",
        "print ('a column(*) of the first example:\\n', array_of_2d_examples[0, :, 0])"
      ],
      "execution_count": 0,
      "outputs": [
        {
          "output_type": "stream",
          "text": [
            "original:\n",
            " [[[0 2]\n",
            "  [1 0]]\n",
            "\n",
            " [[1 1]\n",
            "  [1 1]]]\n",
            "first example:\n",
            " [[0 2]\n",
            " [1 0]]\n",
            "a row(*) of the first example:\n",
            " [0 2]\n",
            "a row(*) of the first example:\n",
            " [1 0]\n",
            "a column(*) of the first example:\n",
            " [0 1]\n"
          ],
          "name": "stdout"
        }
      ]
    },
    {
      "cell_type": "code",
      "metadata": {
        "id": "adB27YVNdvlD",
        "colab_type": "code",
        "outputId": "7d591675-4ccf-4d15-fd72-d622c2b86403",
        "colab": {
          "base_uri": "https://localhost:8080/",
          "height": 140
        }
      },
      "source": [
        "# Concatenations\n",
        "# np.hstack\n",
        "print(np.concatenate([array_of_1d_examples, [[0, 1]]], axis=0))\n",
        "# np.vstack\n",
        "print(np.concatenate([array_of_1d_examples, [[1], [0], [1]]], axis=1))"
      ],
      "execution_count": 0,
      "outputs": [
        {
          "output_type": "stream",
          "text": [
            "[[1 1]\n",
            " [0 0]\n",
            " [1 0]\n",
            " [0 1]]\n",
            "[[1 1 1]\n",
            " [0 0 0]\n",
            " [1 0 1]]\n"
          ],
          "name": "stdout"
        }
      ]
    },
    {
      "cell_type": "code",
      "metadata": {
        "id": "BUOzdPtldvki",
        "colab_type": "code",
        "colab": {}
      },
      "source": [
        "# Python 0-d ~ 4-d arrays\n",
        "table_0d = 0\n",
        "table_1d = [0]\n",
        "table_2d = [[0]]\n",
        "table_3d = [[[0]]]\n",
        "table_4d = [[[[0]]]]\n"
      ],
      "execution_count": 0,
      "outputs": []
    },
    {
      "cell_type": "code",
      "metadata": {
        "id": "jEoGX46gdvlL",
        "colab_type": "code",
        "outputId": "a623b09d-5e90-4d5e-8338-49316879062a",
        "colab": {
          "base_uri": "https://localhost:8080/",
          "height": 52
        }
      },
      "source": [
        "# Reshape high-dimension arrays to low-dimension arrays\n",
        "print(array_of_2d_examples.reshape(2, 4))"
      ],
      "execution_count": 0,
      "outputs": [
        {
          "output_type": "stream",
          "text": [
            "[[0 2 1 0]\n",
            " [1 1 1 1]]\n"
          ],
          "name": "stdout"
        }
      ]
    },
    {
      "cell_type": "code",
      "metadata": {
        "id": "vLT4rH7ldvlT",
        "colab_type": "code",
        "outputId": "c556ad36-692b-4716-8dda-fcd94c6d12b9",
        "colab": {
          "base_uri": "https://localhost:8080/",
          "height": 228
        }
      },
      "source": [
        "# array-vs-array and array-vs-number operations.\n",
        "print(array_of_1d_examples + 100)\n",
        "print(array_of_1d_examples)\n",
        "print(array_of_1d_examples / [[2], [1e-9], [1]])\n",
        "print(array_of_1d_examples + array_of_1d_examples)"
      ],
      "execution_count": 0,
      "outputs": [
        {
          "output_type": "stream",
          "text": [
            "[[101 101]\n",
            " [100 100]\n",
            " [101 100]]\n",
            "[[1 1]\n",
            " [0 0]\n",
            " [1 0]]\n",
            "[[0.5 0.5]\n",
            " [0.  0. ]\n",
            " [1.  0. ]]\n",
            "[[2 2]\n",
            " [0 0]\n",
            " [2 0]]\n"
          ],
          "name": "stdout"
        }
      ]
    },
    {
      "cell_type": "code",
      "metadata": {
        "id": "byN_vhqndvla",
        "colab_type": "code",
        "outputId": "80cd15f3-62fe-4a5e-afae-baf35bfe8efd",
        "colab": {
          "base_uri": "https://localhost:8080/",
          "height": 123
        }
      },
      "source": [
        "# conditional updates\n",
        "print(array_of_1d_examples == 1)\n",
        "local_array = array_of_1d_examples.copy()\n",
        "local_array[array_of_1d_examples == 1] = 1\n",
        "print(local_array)"
      ],
      "execution_count": 0,
      "outputs": [
        {
          "output_type": "stream",
          "text": [
            "[[ True  True]\n",
            " [False False]\n",
            " [ True False]]\n",
            "[[1 1]\n",
            " [0 0]\n",
            " [1 0]]\n"
          ],
          "name": "stdout"
        }
      ]
    },
    {
      "cell_type": "code",
      "metadata": {
        "id": "W-xIwIjTdvlk",
        "colab_type": "code",
        "outputId": "b1caa280-ed97-476b-8091-6a76eeb33d1f",
        "colab": {
          "base_uri": "https://localhost:8080/",
          "height": 136
        }
      },
      "source": [
        "# Some basic math functions just FYI.\n",
        "# print(array_of_1d_examples.mean(axis=1))\n",
        "# [[1 1], [0, 0]]\n",
        "# axis = 0: a = [1, 1], b = [0, 0]\n",
        "#           mean(a + b)\n",
        "# axis = 1: {(1), (1)}, {(0), (0)}\n",
        "# a0 = 1, b0 = 1, mean(a + b)\n",
        "# a1 = 0, b1 = 0, mean(a + b)\n",
        "\n",
        "print(array_of_2d_examples)\n",
        "# print(array_of_2d_examples.mean(axis=0))\n",
        "# a = [[0 2], [1 0]] \n",
        "# b = [[1 1], [1 1]]\n",
        "# mean([a, b]) = a + b / 2\n",
        "# print(array_of_2d_examples.mean(axis=1))\n",
        "# [mean([0 2], [1 0]),\n",
        "#  mean([1 1], [1 1])]\n",
        "print(array_of_2d_examples.mean(axis=2))\n",
        "#[[[0 2]\n",
        "# [1 0]]\n",
        "#\n",
        "# [[1 1]\n",
        "#  [1 1]]]\n",
        "# axis = 0\n",
        "# mean([[[0 2]\n",
        "#        [1 0]]\n",
        "#      [[1 1]\n",
        "#       [1 1]]])\n",
        "#\n",
        "#[mean([[0 2]\n",
        "#      [1 0]],\n",
        "# mean[[1 1]\n",
        "#      [1 1]] )] \n",
        "#\n",
        "\n",
        "#[[mean([0 2])\n",
        "#  mean([1 0])]\n",
        "#\n",
        "# [mean([1 1])\n",
        "#  [1 1]]]"
      ],
      "execution_count": 0,
      "outputs": [
        {
          "output_type": "stream",
          "text": [
            "[[[0 2]\n",
            "  [1 0]]\n",
            "\n",
            " [[1 1]\n",
            "  [1 1]]]\n",
            "[[1.  0.5]\n",
            " [1.  1. ]]\n"
          ],
          "name": "stdout"
        }
      ]
    },
    {
      "cell_type": "code",
      "metadata": {
        "id": "R8lvj3FF1RHD",
        "colab_type": "code",
        "outputId": "4281538f-ce90-4359-cf75-401c5796c798",
        "colab": {
          "base_uri": "https://localhost:8080/",
          "height": 51
        }
      },
      "source": [
        "new_array_of_2d_examples = [[[1, 2, 3, 4], [5, 6, 7, 8], [9, 10, 11, 12]],\n",
        "                            [[13, 14, 15, 16], [17, 18, 19, 20], [21, 22, 23, 24]]]\n",
        "new_array_of_2d_examples = np.array(new_array_of_2d_examples)\n",
        "#print(new_array_of_2d_examples.mean(axis=0)) # 2 element of 3 x 4\n",
        "# avg([[1, 2, 3, 4], [5, 6, 7, 8], [9, 10, 11, 12]],\n",
        "#     [[13, 14, 15, 16], [17, 18, 19, 20], [21, 22, 23, 24]])\n",
        "#print(new_array_of_2d_examples.mean(axis=1)) \n",
        "# [avg([[1, 2, 3, 4], [5, 6, 7, 8], [9, 10, 11, 12]]), # 3 elements of 4\n",
        "#  avg([[13, 14, 15, 16], [17, 18, 19, 20], [21, 22, 23, 24]])]\n",
        "print(new_array_of_2d_examples.mean(axis=2))\n",
        "# [([avg([1, 2, 3, 4]), [5, 6, 7, 8], [9, 10, 11, 12]]), # 3 elements of 4\n",
        "#  ([[13, 14, 15, 16], [17, 18, 19, 20], [21, 22, 23, 24]])]\n"
      ],
      "execution_count": 0,
      "outputs": [
        {
          "output_type": "stream",
          "text": [
            "[[ 2.5  6.5 10.5]\n",
            " [14.5 18.5 22.5]]\n"
          ],
          "name": "stdout"
        }
      ]
    },
    {
      "cell_type": "code",
      "metadata": {
        "id": "P2-S9FuAdvlt",
        "colab_type": "code",
        "outputId": "090dca88-fd53-4be4-dffe-7cc62ee91c37",
        "colab": {
          "base_uri": "https://localhost:8080/",
          "height": 387
        }
      },
      "source": [
        "# Pandas DataFrame: data + metadata\n",
        "import pandas as pd\n",
        "df = pd.read_csv('https://archive.ics.uci.edu/ml/machine-learning-databases/car/car.data',\n",
        "                 header=None,\n",
        "                 names=['type1', 'type2', 'num1', 'num2', 'size', '?', '??'])\n",
        "print('df:\\n', df[:10])\n",
        "print(type(df.keys))\n",
        "print(type(df.values))\n",
        "print(df.values)"
      ],
      "execution_count": 0,
      "outputs": [
        {
          "output_type": "stream",
          "text": [
            "df:\n",
            "    type1  type2 num1 num2   size     ?     ??\n",
            "0  vhigh  vhigh    2    2  small   low  unacc\n",
            "1  vhigh  vhigh    2    2  small   med  unacc\n",
            "2  vhigh  vhigh    2    2  small  high  unacc\n",
            "3  vhigh  vhigh    2    2    med   low  unacc\n",
            "4  vhigh  vhigh    2    2    med   med  unacc\n",
            "5  vhigh  vhigh    2    2    med  high  unacc\n",
            "6  vhigh  vhigh    2    2    big   low  unacc\n",
            "7  vhigh  vhigh    2    2    big   med  unacc\n",
            "8  vhigh  vhigh    2    2    big  high  unacc\n",
            "9  vhigh  vhigh    2    4  small   low  unacc\n",
            "<class 'method'>\n",
            "<class 'numpy.ndarray'>\n",
            "[['vhigh' 'vhigh' '2' ... 'small' 'low' 'unacc']\n",
            " ['vhigh' 'vhigh' '2' ... 'small' 'med' 'unacc']\n",
            " ['vhigh' 'vhigh' '2' ... 'small' 'high' 'unacc']\n",
            " ...\n",
            " ['low' 'low' '5more' ... 'big' 'low' 'unacc']\n",
            " ['low' 'low' '5more' ... 'big' 'med' 'good']\n",
            " ['low' 'low' '5more' ... 'big' 'high' 'vgood']]\n"
          ],
          "name": "stdout"
        }
      ]
    },
    {
      "cell_type": "code",
      "metadata": {
        "id": "-fYEWI3idvl1",
        "colab_type": "code",
        "outputId": "5e9872f6-54d7-4c5c-daad-c6b976930e07",
        "colab": {
          "base_uri": "https://localhost:8080/",
          "height": 204
        }
      },
      "source": [
        "# Convert data to numerical form for them to make sense\n",
        "mapping = {'small': 1, 'med': 2, 'big': 3}\n",
        "df = df.replace({'size': mapping})\n",
        "\n",
        "print(df[:10])"
      ],
      "execution_count": 0,
      "outputs": [
        {
          "output_type": "stream",
          "text": [
            "   type1  type2 num1 num2  size     ?     ??\n",
            "0  vhigh  vhigh    2    2     1   low  unacc\n",
            "1  vhigh  vhigh    2    2     1   med  unacc\n",
            "2  vhigh  vhigh    2    2     1  high  unacc\n",
            "3  vhigh  vhigh    2    2     2   low  unacc\n",
            "4  vhigh  vhigh    2    2     2   med  unacc\n",
            "5  vhigh  vhigh    2    2     2  high  unacc\n",
            "6  vhigh  vhigh    2    2     3   low  unacc\n",
            "7  vhigh  vhigh    2    2     3   med  unacc\n",
            "8  vhigh  vhigh    2    2     3  high  unacc\n",
            "9  vhigh  vhigh    2    4     1   low  unacc\n"
          ],
          "name": "stdout"
        }
      ]
    }
  ]
}