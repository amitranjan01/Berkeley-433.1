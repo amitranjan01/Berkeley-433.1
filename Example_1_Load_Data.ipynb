{
  "nbformat": 4,
  "nbformat_minor": 0,
  "metadata": {
    "colab": {
      "name": "Example 1 Load Data.ipynb",
      "version": "0.3.2",
      "provenance": [],
      "collapsed_sections": [],
      "include_colab_link": true
    },
    "kernelspec": {
      "display_name": "Python 3",
      "language": "python",
      "name": "python3"
    }
  },
  "cells": [
    {
      "cell_type": "markdown",
      "metadata": {
        "id": "view-in-github",
        "colab_type": "text"
      },
      "source": [
        "<a href=\"https://colab.research.google.com/github/amitranjan02/Berkeley-433.1/blob/master/Example_1_Load_Data.ipynb\" target=\"_parent\"><img src=\"https://colab.research.google.com/assets/colab-badge.svg\" alt=\"Open In Colab\"/></a>"
      ]
    },
    {
      "cell_type": "code",
      "metadata": {
        "id": "fM4tfXlH6glk",
        "colab_type": "code",
        "outputId": "6b0ea584-5a87-4d5a-b168-89b7d29e2a3a",
        "colab": {}
      },
      "source": [
        "# Read a CSV file from web.\n",
        "import pandas as pd\n",
        "df = pd.read_csv('https://archive.ics.uci.edu/ml/machine-learning-databases/car/car.data')\n",
        "print(df[:10])"
      ],
      "execution_count": 0,
      "outputs": [
        {
          "output_type": "stream",
          "text": [
            "   vhigh vhigh.1  2 2.1  small   low  unacc\n",
            "0  vhigh   vhigh  2   2  small   med  unacc\n",
            "1  vhigh   vhigh  2   2  small  high  unacc\n",
            "2  vhigh   vhigh  2   2    med   low  unacc\n",
            "3  vhigh   vhigh  2   2    med   med  unacc\n",
            "4  vhigh   vhigh  2   2    med  high  unacc\n",
            "5  vhigh   vhigh  2   2    big   low  unacc\n",
            "6  vhigh   vhigh  2   2    big   med  unacc\n",
            "7  vhigh   vhigh  2   2    big  high  unacc\n",
            "8  vhigh   vhigh  2   4  small   low  unacc\n",
            "9  vhigh   vhigh  2   4  small   med  unacc\n"
          ],
          "name": "stdout"
        }
      ]
    },
    {
      "cell_type": "code",
      "metadata": {
        "id": "RqCO59bz6glw",
        "colab_type": "code",
        "outputId": "845d525d-bf58-48dc-b683-6adfa84245e8",
        "colab": {}
      },
      "source": [
        "# Download a CSV to local disk, then read from local disk.\n",
        "import requests\n",
        "url = 'https://archive.ics.uci.edu/ml/machine-learning-databases/car/car.data'\n",
        "r = requests.get(url, allow_redirects=True)\n",
        "open('car.data', 'wb').write(r.content)\n",
        "import pandas as pd\n",
        "df = pd.read_csv('car.data')\n",
        "print(df[:10])"
      ],
      "execution_count": 0,
      "outputs": [
        {
          "output_type": "stream",
          "text": [
            "   vhigh vhigh.1  2 2.1  small   low  unacc\n",
            "0  vhigh   vhigh  2   2  small   med  unacc\n",
            "1  vhigh   vhigh  2   2  small  high  unacc\n",
            "2  vhigh   vhigh  2   2    med   low  unacc\n",
            "3  vhigh   vhigh  2   2    med   med  unacc\n",
            "4  vhigh   vhigh  2   2    med  high  unacc\n",
            "5  vhigh   vhigh  2   2    big   low  unacc\n",
            "6  vhigh   vhigh  2   2    big   med  unacc\n",
            "7  vhigh   vhigh  2   2    big  high  unacc\n",
            "8  vhigh   vhigh  2   4  small   low  unacc\n",
            "9  vhigh   vhigh  2   4  small   med  unacc\n"
          ],
          "name": "stdout"
        }
      ]
    },
    {
      "cell_type": "code",
      "metadata": {
        "id": "xk8tZh0f6gl6",
        "colab_type": "code",
        "outputId": "ccc23d3b-7448-447d-8958-a22bbbbbede2",
        "colab": {}
      },
      "source": [
        "# Read to and write from remote file system (AWS S3)\n",
        "import boto3, os\n",
        "\n",
        "# Upload to AWS\n",
        "s3 = boto3.resource('s3',\n",
        "                    aws_access_key_id='XXXXXXX',\n",
        "                    aws_secret_access_key='XXXXXXX')\n",
        "# s3.create_bucket(Bucket='datascienceclass-datasets')\n",
        "s3.meta.client.upload_file('car.data', 'datascienceclass-datasets', 'car.data')\n",
        "# Read the file.\n",
        "for obj in s3.Bucket(name='datascienceclass-datasets').objects.all():\n",
        "    print(os.path.join(obj.bucket_name, obj.key))\n",
        "    import pandas as pd\n",
        "    from io import StringIO\n",
        "    # Read the file content, decode it and parse it.\n",
        "    content_bytes = obj.get()['Body'].read()\n",
        "    print('content type: ', type(content_bytes))\n",
        "    content = content_bytes.decode()\n",
        "    print('decoded content type: ', type(content))\n",
        "    print(pd.read_csv(StringIO(str(content)))[:10])"
      ],
      "execution_count": 0,
      "outputs": [
        {
          "output_type": "stream",
          "text": [
            "datascienceclass-datasets\\car.data\n",
            "content type:  <class 'bytes'>\n",
            "decoded content type:  <class 'str'>\n",
            "   vhigh vhigh.1  2 2.1  small   low  unacc\n",
            "0  vhigh   vhigh  2   2  small   med  unacc\n",
            "1  vhigh   vhigh  2   2  small  high  unacc\n",
            "2  vhigh   vhigh  2   2    med   low  unacc\n",
            "3  vhigh   vhigh  2   2    med   med  unacc\n",
            "4  vhigh   vhigh  2   2    med  high  unacc\n",
            "5  vhigh   vhigh  2   2    big   low  unacc\n",
            "6  vhigh   vhigh  2   2    big   med  unacc\n",
            "7  vhigh   vhigh  2   2    big  high  unacc\n",
            "8  vhigh   vhigh  2   4  small   low  unacc\n",
            "9  vhigh   vhigh  2   4  small   med  unacc\n"
          ],
          "name": "stdout"
        }
      ]
    },
    {
      "cell_type": "code",
      "metadata": {
        "id": "2SbTGKLb6gmB",
        "colab_type": "code",
        "outputId": "3f93369e-e0b6-4936-e46b-3c5601d4909e",
        "colab": {}
      },
      "source": [
        "# Write and then read from database.\n",
        "import boto3\n",
        "dynamodb = boto3.resource('dynamodb',\n",
        "                          region_name='us-west-1',\n",
        "                          aws_access_key_id='XXXXXX',\n",
        "                          aws_secret_access_key='XXX')\n",
        "try:\n",
        "    table = dynamodb.create_table(\n",
        "        TableName='uci_car',\n",
        "        KeySchema=[\n",
        "            {\n",
        "                'AttributeName': 'id',\n",
        "                'KeyType': 'HASH'\n",
        "            },\n",
        "        ], \n",
        "        AttributeDefinitions=[\n",
        "            {\n",
        "                'AttributeName': 'id', \n",
        "                'AttributeType': 'S'\n",
        "            },  \n",
        "        ], \n",
        "        ProvisionedThroughput={\n",
        "            'ReadCapacityUnits': 1, \n",
        "            'WriteCapacityUnits': 1\n",
        "        }\n",
        "    )\n",
        "except:\n",
        "    pass\n",
        "table = dynamodb.Table('uci_car')\n",
        "\n",
        "df = pd.read_csv('https://archive.ics.uci.edu/ml/machine-learning-databases/car/car.data')\n",
        "for idx, item in enumerate(df.values[:10]):\n",
        "    table.put_item(\n",
        "       Item={\n",
        "           'id': str(idx),\n",
        "           # TODO: add other features here..\n",
        "           'buying': str(item[0]),\n",
        "           # 'maint': str(item[1]),\n",
        "           'label': str(item[-1])\n",
        "        }\n",
        "    )\n",
        "\n",
        "response = table.get_item(\n",
        "   Key={\n",
        "        'id': '0',\n",
        "    }\n",
        ")\n",
        "print(response)\n",
        "\n",
        "table.delete()"
      ],
      "execution_count": 0,
      "outputs": [
        {
          "output_type": "stream",
          "text": [
            "{'Item': {'id': '0', 'buying': 'vhigh', 'label': 'unacc'}, 'ResponseMetadata': {'RequestId': 'KGVIQD7FQU369QCCUSC09RKAIBVV4KQNSO5AEMVJF66Q9ASUAAJG', 'HTTPStatusCode': 200, 'HTTPHeaders': {'server': 'Server', 'date': 'Sun, 20 Jan 2019 20:57:49 GMT', 'content-type': 'application/x-amz-json-1.0', 'content-length': '70', 'connection': 'keep-alive', 'x-amzn-requestid': 'KGVIQD7FQU369QCCUSC09RKAIBVV4KQNSO5AEMVJF66Q9ASUAAJG', 'x-amz-crc32': '2800687844'}, 'RetryAttempts': 0}}\n"
          ],
          "name": "stdout"
        },
        {
          "output_type": "execute_result",
          "data": {
            "text/plain": [
              "{'TableDescription': {'TableName': 'uci_car',\n",
              "  'TableStatus': 'DELETING',\n",
              "  'ProvisionedThroughput': {'NumberOfDecreasesToday': 0,\n",
              "   'ReadCapacityUnits': 1,\n",
              "   'WriteCapacityUnits': 1},\n",
              "  'TableSizeBytes': 0,\n",
              "  'ItemCount': 0,\n",
              "  'TableArn': 'arn:aws:dynamodb:us-west-1:106493381494:table/uci_car',\n",
              "  'TableId': 'aa3fb573-aff1-4516-b8fd-2fcd3f85901f'},\n",
              " 'ResponseMetadata': {'RequestId': 'LQ92FEPPO8K73D3L9NF8DM32D7VV4KQNSO5AEMVJF66Q9ASUAAJG',\n",
              "  'HTTPStatusCode': 200,\n",
              "  'HTTPHeaders': {'server': 'Server',\n",
              "   'date': 'Sun, 20 Jan 2019 20:57:49 GMT',\n",
              "   'content-type': 'application/x-amz-json-1.0',\n",
              "   'content-length': '316',\n",
              "   'connection': 'keep-alive',\n",
              "   'x-amzn-requestid': 'LQ92FEPPO8K73D3L9NF8DM32D7VV4KQNSO5AEMVJF66Q9ASUAAJG',\n",
              "   'x-amz-crc32': '1580782858'},\n",
              "  'RetryAttempts': 0}}"
            ]
          },
          "metadata": {
            "tags": []
          },
          "execution_count": 94
        }
      ]
    },
    {
      "cell_type": "code",
      "metadata": {
        "id": "6u0ZCYhc6gmK",
        "colab_type": "code",
        "outputId": "0356f426-78f8-4d53-b643-46dfa51eb98d",
        "colab": {
          "base_uri": "https://localhost:8080/",
          "height": 87
        }
      },
      "source": [
        "# Process JSON format. Examples from: https://docs.python-guide.org/scenarios/json/\n",
        "import json\n",
        "json_string = '{\"first_name\": \"Guido\", \"last_name\":\"Rossum\"}'\n",
        "parsed_json = json.loads(json_string)\n",
        "print(type(parsed_json))\n",
        "print(parsed_json)\n",
        "print(json.dumps({'first_name': 'Guido', 'last_name': 'Rossum'}))\n",
        "\n",
        "# rich representation\n",
        "print(json.dumps({'image': 'url', 'text': ['string1', 'string2']}))"
      ],
      "execution_count": 0,
      "outputs": [
        {
          "output_type": "stream",
          "text": [
            "<class 'dict'>\n",
            "{'first_name': 'Guido', 'last_name': 'Rossum'}\n",
            "{\"first_name\": \"Guido\", \"last_name\": \"Rossum\"}\n",
            "{\"image\": \"url\", \"text\": [\"string1\", \"string2\"]}\n"
          ],
          "name": "stdout"
        }
      ]
    }
  ]
}